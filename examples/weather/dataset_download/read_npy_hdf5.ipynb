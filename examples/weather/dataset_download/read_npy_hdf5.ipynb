{
 "cells": [
  {
   "cell_type": "code",
   "execution_count": 1,
   "metadata": {},
   "outputs": [],
   "source": [
    "import numpy as np"
   ]
  },
  {
   "cell_type": "code",
   "execution_count": 3,
   "metadata": {},
   "outputs": [
    {
     "data": {
      "text/plain": [
       "array([[[[-0.051656  ]],\n",
       "\n",
       "        [[ 0.16486812]]]], dtype=float32)"
      ]
     },
     "execution_count": 3,
     "metadata": {},
     "output_type": "execute_result"
    }
   ],
   "source": [
    "global_means = np.load('/datasets/hdf5_data_uv_temp/stats/global_means.npy')\n",
    "global_means"
   ]
  },
  {
   "cell_type": "code",
   "execution_count": 4,
   "metadata": {},
   "outputs": [
    {
     "data": {
      "text/plain": [
       "array([[[[5.5035357]],\n",
       "\n",
       "        [[4.729792 ]]]], dtype=float32)"
      ]
     },
     "execution_count": 4,
     "metadata": {},
     "output_type": "execute_result"
    }
   ],
   "source": [
    "global_stds = np.load('/datasets/hdf5_data_uv_temp/stats/global_stds.npy')\n",
    "global_stds"
   ]
  },
  {
   "cell_type": "code",
   "execution_count": 1,
   "metadata": {},
   "outputs": [],
   "source": [
    "import h5py"
   ]
  },
  {
   "cell_type": "code",
   "execution_count": 8,
   "metadata": {},
   "outputs": [],
   "source": [
    "file = \"/datasets/hdf5_data_uv/test/2019.h5\""
   ]
  },
  {
   "cell_type": "code",
   "execution_count": 2,
   "metadata": {},
   "outputs": [],
   "source": [
    "file = \"/datasets/hdf5_data_uv_temp/train/1980.h5\""
   ]
  },
  {
   "cell_type": "code",
   "execution_count": 3,
   "metadata": {},
   "outputs": [
    {
     "name": "stdout",
     "output_type": "stream",
     "text": [
      "Keys: %s ['channel', 'fields', 'latitude', 'longitude', 'time']\n",
      "data for key 'channel' has shape (2,)\n"
     ]
    }
   ],
   "source": [
    "with h5py.File(file, 'r') as hdf:\n",
    "\tkeys = list(hdf.keys())\n",
    "\tprint(\"Keys: %s\", keys)\n",
    "\tfor key in keys:\n",
    "\t\tdata = hdf[key][:]\n",
    "\t\tprint(f\"data for key '{key}' has shape {data.shape}\")\n"
   ]
  }
 ],
 "metadata": {
  "kernelspec": {
   "display_name": "Python 3",
   "language": "python",
   "name": "python3"
  },
  "language_info": {
   "codemirror_mode": {
    "name": "ipython",
    "version": 3
   },
   "file_extension": ".py",
   "mimetype": "text/x-python",
   "name": "python",
   "nbconvert_exporter": "python",
   "pygments_lexer": "ipython3",
   "version": "3.10.12"
  }
 },
 "nbformat": 4,
 "nbformat_minor": 2
}
